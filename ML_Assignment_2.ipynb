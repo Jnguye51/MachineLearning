{
 "cells": [
  {
   "cell_type": "markdown",
   "id": "ef098758",
   "metadata": {},
   "source": [
    "# Machine Learning Assignment 2\n",
    "### Jimmy Nguyen"
   ]
  },
  {
   "cell_type": "markdown",
   "id": "1da6d006",
   "metadata": {},
   "source": [
    "# Question 1:\n",
    "## (S, T) and (U, V ) form an orthogonal and non-orthogonal coordinate system, respectively, for the same space. Let →e s = [Sx, Sy] and →e t = [Tx, Ty] as the orthonormal basis for system [S, T]. Let →e u = [Ux, Uy] and →e v = [Vx, Vy] be unit vectors and form a basis for system [U, V ]. Figure 1 depicts the coordinate systems, with X − Y forming the original coordinate system, S − T forming the orthogonal one, and U − V forming the non-orthogonal one.\n",
    "## Let →q = [qx, qy] be an arbitrary vector. Compute:"
   ]
  },
  {
   "cell_type": "markdown",
   "id": "bbf751ae",
   "metadata": {},
   "source": [
    "### 1). the coordinate of →q in the space of [S, T]."
   ]
  },
  {
   "cell_type": "markdown",
   "id": "f670e2e8",
   "metadata": {},
   "source": [
    "Dot Product:\n",
    "\n",
    "q s = →q * →e s\n",
    "\n",
    "q t = →q * →e t"
   ]
  },
  {
   "cell_type": "markdown",
   "id": "a20e2e4e",
   "metadata": {},
   "source": [
    "### 2). the coordinate of →q in the space of [U, V ]."
   ]
  },
  {
   "cell_type": "markdown",
   "id": "dcdba236",
   "metadata": {},
   "source": [
    "Dot Product:\n",
    "\n",
    "q u = →q * →e u\n",
    "\n",
    "q v = →q * →e v"
   ]
  },
  {
   "cell_type": "markdown",
   "id": "ddcec5a7",
   "metadata": {},
   "source": [
    "### 3). Can you explain why orthogonal basis makes things easier to handle?"
   ]
  },
  {
   "cell_type": "markdown",
   "id": "adc925a7",
   "metadata": {},
   "source": [
    "The orthogonal basis vectors are linearly independent and the dot product of the basis vectors only has nonzero elements, which makes calculating vectors much simpler."
   ]
  },
  {
   "cell_type": "markdown",
   "id": "6da0a881",
   "metadata": {},
   "source": [
    "# Question 2:\n",
    "## Write your own class in Python to perform PCA analysis. Require that your input datafollow the format where rows are samples and columns are variables. Your functionshould do the following:\n",
    "### (1). Do mean-centering.\n",
    "### (2). Compute the covariance matrix using numpy.cov().\n",
    "### (3). Perform eigen-decomposition using numpy.linalg.eig().\n",
    "### (4). Project the data onto the principal component axes.\n",
    "### (5). Return the variance and percent variance that each PC explains, all of the scores, and loadings."
   ]
  },
  {
   "cell_type": "code",
   "execution_count": 1,
   "id": "fc203598",
   "metadata": {},
   "outputs": [],
   "source": [
    "# My PCA Class\n",
    "\n",
    "class MyPCA:\n",
    "    \n",
    "    def __init__(self, num_components):\n",
    "        \n",
    "        self.num_components = num_components\n",
    "        self.components = None # Call loadings\n",
    "        self.X_mean = None\n",
    "        self.eigenvalues = None # Call variance\n",
    "        self.covmatrix = None # Call covariance matrix\n",
    "        \n",
    "    def fit_transform(self, X):\n",
    "        \n",
    "        # Mean-Center\n",
    "        self.X_mean = np.mean(X, axis = 0)\n",
    "        X = X - self.X_mean\n",
    "    \n",
    "        # Covariance Matrix\n",
    "        cov_matrix = np.cov(X.astype(float), rowvar = False)\n",
    "        self.covmatrix = cov_matrix\n",
    "        \n",
    "        # Eigen-Decomposition\n",
    "        eigenvalues, eigenvectors = np.linalg.eig(cov_matrix)\n",
    "        \n",
    "        # Sort Eigenvectors in Descending Order\n",
    "        eigenvectors = eigenvectors.transpose()\n",
    "        index = np.argsort(eigenvalues)[::-1]\n",
    "        eigenvalues_sorted = eigenvalues[index]\n",
    "        eigenvectors_sorted = eigenvectors[index]\n",
    "        \n",
    "        self.eigenvalues = eigenvalues_sorted\n",
    "        \n",
    "        self.components = eigenvectors_sorted[0:self.num_components]\n",
    "    \n",
    "        # Projecting Data\n",
    "        return np.dot(X, self.components.transpose())\n",
    "    \n",
    "    def explained_variance(self):\n",
    "        \n",
    "        # Calculating Explained Variance\n",
    "        var_expl = []\n",
    "        tot_eigenvalues = sum(self.eigenvalues)\n",
    "        for i in self.eigenvalues:\n",
    "            percent_var_expl = (i/tot_eigenvalues)*100\n",
    "            var_expl.append(percent_var_expl)\n",
    "        \n",
    "        return var_expl"
   ]
  },
  {
   "cell_type": "markdown",
   "id": "32e50b05",
   "metadata": {},
   "source": [
    "# Question 3:\n",
    "## Apply your own PCA function to the dataset “Homework 2 dataset prob3.csv”. In thisdataset, columns correspond to variables."
   ]
  },
  {
   "cell_type": "code",
   "execution_count": 2,
   "id": "f776a364",
   "metadata": {},
   "outputs": [],
   "source": [
    "# PCA on Dataset 3\n",
    "\n",
    "import numpy as np\n",
    "import matplotlib.pyplot as plt\n",
    "import pandas as pd\n",
    "\n",
    "data_3 = pd.read_csv('Homework_2_dataset_prob3.csv')\n",
    "X3 = data_3.to_numpy()\n",
    "\n",
    "num_components = min(X3.shape[0], X3.shape[1])\n",
    "\n",
    "object_pca = MyPCA(num_components = num_components)\n",
    "pca_results = object_pca.fit_transform(X3)"
   ]
  },
  {
   "cell_type": "markdown",
   "id": "305d7657",
   "metadata": {},
   "source": [
    "### • Plot the scores plot."
   ]
  },
  {
   "cell_type": "code",
   "execution_count": 3,
   "id": "1e77368a",
   "metadata": {},
   "outputs": [
    {
     "name": "stdout",
     "output_type": "stream",
     "text": [
      "Scores: [[ 22.98125567  -1.37554593]\n",
      " [ 22.49894927  -2.28970193]\n",
      " [ 20.005713    -1.36361068]\n",
      " [ 19.25038654  -2.02791987]\n",
      " [ 17.43671516  -1.72371377]\n",
      " [ 15.7347048   -1.52169118]\n",
      " [ 13.81334629  -1.11893815]\n",
      " [ 12.92246342  -1.65919662]\n",
      " [ 11.67612091  -1.87416596]\n",
      " [  9.20147893  -0.96509075]\n",
      " [  8.66382649  -1.82859835]\n",
      " [  6.12162538  -0.85769827]\n",
      " [  5.65215179  -1.78359786]\n",
      " [  6.22197684  -3.66058307]\n",
      " [  1.47693189  -0.67381093]\n",
      " [  1.65972922  -2.19661835]\n",
      " [  1.39460442  -3.30952212]\n",
      " [ -0.97476546  -2.4967838 ]\n",
      " [ -3.36938661  -1.66093746]\n",
      " [ -4.08672549  -2.36000994]\n",
      " [ -7.05572945  -0.99853296]\n",
      " [ -6.55487496  -2.81240164]\n",
      " [ -7.89657768  -2.9401047 ]\n",
      " [ -9.95393323  -2.41289772]\n",
      " [-12.20501147  -1.70841075]\n",
      " [-13.03194198  -2.30719345]\n",
      " [-12.68705447  -3.97833325]\n",
      " [-14.87113662  -3.33515589]\n",
      " [-17.11119877  -2.64074999]\n",
      " [-18.37071021  -2.84366813]\n",
      " [ 18.18280056   3.0156285 ]\n",
      " [ 18.7298962    1.15944348]\n",
      " [ 16.45861679   1.88241701]\n",
      " [ 13.81928105   2.94220718]\n",
      " [ 12.5217532    2.77407871]\n",
      " [ 11.3747821    2.46817235]\n",
      " [  9.57563603   2.75908602]\n",
      " [  9.38462107   1.57836266]\n",
      " [  6.15225567   3.18084763]\n",
      " [  4.64075518   3.20853035]\n",
      " [  5.06323655   1.46638267]\n",
      " [  1.54166071   3.33353063]\n",
      " [  0.5628718    2.87371697]\n",
      " [ -1.06301998   3.00608173]\n",
      " [ -2.23165827   2.72000351]\n",
      " [ -2.62290893   1.72252036]\n",
      " [ -3.88208493   1.51929524]\n",
      " [ -5.9436983    2.05039864]\n",
      " [ -7.3927602    2.02094239]\n",
      " [ -9.46927314   2.56568073]\n",
      " [ -9.45389102   1.19607875]\n",
      " [-12.58187799   2.70304467]\n",
      " [-13.80212038   2.46419053]\n",
      " [-13.0123747    0.385951  ]\n",
      " [-15.74891687   1.53469696]\n",
      " [-16.73609066   1.08255649]\n",
      " [-18.31170602   1.16891217]\n",
      " [-19.51960115   0.91875877]\n",
      " [-21.34200333   1.23095462]\n",
      " [-23.43711465   1.79271276]]\n"
     ]
    }
   ],
   "source": [
    "# Printing Scores for Dataset 3\n",
    "\n",
    "print('Scores: {}'.format(pca_results))"
   ]
  },
  {
   "cell_type": "code",
   "execution_count": 4,
   "id": "062cf476",
   "metadata": {
    "scrolled": true
   },
   "outputs": [
    {
     "data": {
      "image/png": "[encoded data removed]",
      "text/plain": [
       "<Figure size 640x480 with 1 Axes>"
      ]
     },
     "metadata": {},
     "output_type": "display_data"
    }
   ],
   "source": [
    "# Plotting Scores for Dataset 3\n",
    "\n",
    "scores = pca_results\n",
    "\n",
    "scores1 = scores[:,0]\n",
    "scores2 = scores[:,1]\n",
    "\n",
    "plt.scatter(scores1, scores2)\n",
    "plt.scatter(scores1[:30], scores2[:30], color = 'blue')\n",
    "plt.scatter(scores1[30:], scores2[30:], color = 'red')\n",
    "plt.title('Scores Plot')\n",
    "plt.xlabel('PC1')\n",
    "plt.ylabel('PC2')\n",
    "plt.show()"
   ]
  },
  {
   "cell_type": "markdown",
   "id": "5d4de54e",
   "metadata": {},
   "source": [
    "### • Do you see a clear separation of the raw data?"
   ]
  },
  {
   "cell_type": "code",
   "execution_count": 5,
   "id": "650bfae9",
   "metadata": {
    "scrolled": true
   },
   "outputs": [
    {
     "data": {
      "image/png": "[encoded data removed]",
      "text/plain": [
       "<Figure size 640x480 with 1 Axes>"
      ]
     },
     "metadata": {},
     "output_type": "display_data"
    }
   ],
   "source": [
    "# Plotting Raw Dataset 3\n",
    "\n",
    "raw_x1 = X3[:,0]\n",
    "raw_x2 = X3[:,1]\n",
    "\n",
    "plt.figure()\n",
    "\n",
    "plt.scatter(raw_x1[30:], raw_x2[30:], color = 'green')\n",
    "plt.scatter(raw_x1[:30], raw_x2[:30], color = 'orange')\n",
    "plt.xlabel('x1')\n",
    "plt.ylabel('x2')\n",
    "plt.title('Raw Data')\n",
    "plt.show()"
   ]
  },
  {
   "cell_type": "markdown",
   "id": "29ff9444",
   "metadata": {},
   "source": [
    "Yes, we can see a clear seperation of the raw data between the first 30 samples and the last 30 samples."
   ]
  },
  {
   "cell_type": "markdown",
   "id": "be367887",
   "metadata": {},
   "source": [
    "### • Can you still separate them after you project your raw data onto your first principal component?"
   ]
  },
  {
   "cell_type": "code",
   "execution_count": 6,
   "id": "9892d5aa",
   "metadata": {},
   "outputs": [
    {
     "data": {
      "image/png": "[encoded data removed]",
      "text/plain": [
       "<Figure size 640x480 with 1 Axes>"
      ]
     },
     "metadata": {},
     "output_type": "display_data"
    }
   ],
   "source": [
    "# Projecting Raw Dataset 3 onto PC1\n",
    "\n",
    "projection = np.dot(X3, object_pca.components[:,0])\n",
    "\n",
    "plt.figure()\n",
    "plt.scatter(projection[30:], np.zeros_like(projection)[30:], color = 'green')\n",
    "plt.scatter(projection[:30], np.zeros_like(projection)[:30], color = 'orange')\n",
    "\n",
    "plt.xlabel('PC1')\n",
    "plt.title('Projections onto Pricipal Component 1')\n",
    "\n",
    "plt.show()"
   ]
  },
  {
   "cell_type": "markdown",
   "id": "f430bec4",
   "metadata": {},
   "source": [
    "No, the raw data cannot be seperated after projecting onto the first principal component."
   ]
  },
  {
   "cell_type": "markdown",
   "id": "ed3a5c06",
   "metadata": {},
   "source": [
    "### • What message can you get from this observation?"
   ]
  },
  {
   "cell_type": "markdown",
   "id": "0f91b166",
   "metadata": {},
   "source": [
    "From the raw data being projected onto the first principal component, it can be observed that the majority of the variance in the data is described by PC1."
   ]
  },
  {
   "cell_type": "markdown",
   "id": "ee4a18da",
   "metadata": {},
   "source": [
    "### • What is the variance of the projections on PC1 and PC2. What is the relationship between these variances and the eigenvalues of your covariance matrix?"
   ]
  },
  {
   "cell_type": "code",
   "execution_count": 7,
   "id": "822c3eda",
   "metadata": {},
   "outputs": [
    {
     "name": "stdout",
     "output_type": "stream",
     "text": [
      "Explained Variance: [161.04072383   5.12528389]\n"
     ]
    }
   ],
   "source": [
    "print('Explained Variance: {}'.format(object_pca.eigenvalues))"
   ]
  },
  {
   "cell_type": "code",
   "execution_count": 8,
   "id": "bf722d67",
   "metadata": {
    "scrolled": true
   },
   "outputs": [
    {
     "name": "stdout",
     "output_type": "stream",
     "text": [
      "Percent Explained Variance: [96.9155641650062, 3.084435834993781]\n"
     ]
    }
   ],
   "source": [
    "print('Percent Explained Variance: {}'.format(object_pca.explained_variance()))"
   ]
  },
  {
   "cell_type": "code",
   "execution_count": 9,
   "id": "666bca62",
   "metadata": {
    "scrolled": true
   },
   "outputs": [
    {
     "name": "stdout",
     "output_type": "stream",
     "text": [
      "Covariance Matrix: [[76.18644068 77.65206707]\n",
      " [77.65206707 89.97956704]]\n"
     ]
    }
   ],
   "source": [
    "print('Covariance Matrix: {}'.format(object_pca.covmatrix))\n"
   ]
  },
  {
   "cell_type": "markdown",
   "id": "9c05d0a6",
   "metadata": {},
   "source": [
    "The sum of the explained variances are equal to the sum of the eigenvalues of the covariance matrix.\n",
    "\n",
    "161.04072383 + 5.12528389 = 166.16600772\n",
    "\n",
    "76.18644068 + 89.97956704 = 166.16600772 "
   ]
  },
  {
   "cell_type": "markdown",
   "id": "34a9458b",
   "metadata": {},
   "source": [
    "# Question 4:"
   ]
  },
  {
   "cell_type": "markdown",
   "id": "9b2c9e9a",
   "metadata": {},
   "source": [
    "## Apply your own PCA function to the dataset “Homework 2 dataset prob4.csv”. In this dataset, rows correspond to different variables and columns correspond to different samples. You will need to transpose it before PCA analysis because your own PCA function requires columns to be variables."
   ]
  },
  {
   "cell_type": "code",
   "execution_count": 10,
   "id": "9a6ac53d",
   "metadata": {},
   "outputs": [
    {
     "data": {
      "text/html": [
       "<div>\n",
       "<style scoped>\n",
       "    .dataframe tbody tr th:only-of-type {\n",
       "        vertical-align: middle;\n",
       "    }\n",
       "\n",
       "    .dataframe tbody tr th {\n",
       "        vertical-align: top;\n",
       "    }\n",
       "\n",
       "    .dataframe thead th {\n",
       "        text-align: right;\n",
       "    }\n",
       "</style>\n",
       "<table border=\"1\" class=\"dataframe\">\n",
       "  <thead>\n",
       "    <tr style=\"text-align: right;\">\n",
       "      <th>ComponetID</th>\n",
       "      <th>v1</th>\n",
       "      <th>v5</th>\n",
       "      <th>v17</th>\n",
       "      <th>v51</th>\n",
       "      <th>v68</th>\n",
       "      <th>v79</th>\n",
       "      <th>v117</th>\n",
       "      <th>v118</th>\n",
       "      <th>v132</th>\n",
       "      <th>v138</th>\n",
       "      <th>...</th>\n",
       "      <th>v4681</th>\n",
       "      <th>v4686</th>\n",
       "      <th>v4690</th>\n",
       "      <th>v4700</th>\n",
       "      <th>v4711</th>\n",
       "      <th>v4762</th>\n",
       "      <th>v4779</th>\n",
       "      <th>v4816</th>\n",
       "      <th>v4821</th>\n",
       "      <th>v4888</th>\n",
       "    </tr>\n",
       "  </thead>\n",
       "  <tbody>\n",
       "    <tr>\n",
       "      <th>s 1</th>\n",
       "      <td>13149</td>\n",
       "      <td>162952</td>\n",
       "      <td>0</td>\n",
       "      <td>36557</td>\n",
       "      <td>0</td>\n",
       "      <td>173049</td>\n",
       "      <td>876770</td>\n",
       "      <td>155480</td>\n",
       "      <td>6458</td>\n",
       "      <td>11102</td>\n",
       "      <td>...</td>\n",
       "      <td>6290</td>\n",
       "      <td>10069</td>\n",
       "      <td>5827</td>\n",
       "      <td>0</td>\n",
       "      <td>168228</td>\n",
       "      <td>10179</td>\n",
       "      <td>189013</td>\n",
       "      <td>0</td>\n",
       "      <td>0</td>\n",
       "      <td>48345</td>\n",
       "    </tr>\n",
       "    <tr>\n",
       "      <th>s 3</th>\n",
       "      <td>15519</td>\n",
       "      <td>180989</td>\n",
       "      <td>31487</td>\n",
       "      <td>38760</td>\n",
       "      <td>0</td>\n",
       "      <td>117192</td>\n",
       "      <td>553371</td>\n",
       "      <td>26951</td>\n",
       "      <td>6316</td>\n",
       "      <td>2424</td>\n",
       "      <td>...</td>\n",
       "      <td>6809</td>\n",
       "      <td>0</td>\n",
       "      <td>5810</td>\n",
       "      <td>0</td>\n",
       "      <td>143683</td>\n",
       "      <td>7378</td>\n",
       "      <td>115520</td>\n",
       "      <td>0</td>\n",
       "      <td>0</td>\n",
       "      <td>125184</td>\n",
       "    </tr>\n",
       "    <tr>\n",
       "      <th>s 5</th>\n",
       "      <td>19836</td>\n",
       "      <td>158248</td>\n",
       "      <td>85956</td>\n",
       "      <td>35297</td>\n",
       "      <td>4938</td>\n",
       "      <td>152004</td>\n",
       "      <td>1525264</td>\n",
       "      <td>118552</td>\n",
       "      <td>5565</td>\n",
       "      <td>9918</td>\n",
       "      <td>...</td>\n",
       "      <td>14066</td>\n",
       "      <td>0</td>\n",
       "      <td>11784</td>\n",
       "      <td>2572</td>\n",
       "      <td>162778</td>\n",
       "      <td>6003</td>\n",
       "      <td>147683</td>\n",
       "      <td>2256</td>\n",
       "      <td>9181</td>\n",
       "      <td>139848</td>\n",
       "    </tr>\n",
       "    <tr>\n",
       "      <th>s 7</th>\n",
       "      <td>15295</td>\n",
       "      <td>229520</td>\n",
       "      <td>0</td>\n",
       "      <td>37840</td>\n",
       "      <td>4550</td>\n",
       "      <td>99548</td>\n",
       "      <td>916726</td>\n",
       "      <td>70027</td>\n",
       "      <td>4690</td>\n",
       "      <td>0</td>\n",
       "      <td>...</td>\n",
       "      <td>15710</td>\n",
       "      <td>18619</td>\n",
       "      <td>0</td>\n",
       "      <td>1450</td>\n",
       "      <td>160915</td>\n",
       "      <td>8358</td>\n",
       "      <td>161317</td>\n",
       "      <td>0</td>\n",
       "      <td>3429</td>\n",
       "      <td>203533</td>\n",
       "    </tr>\n",
       "    <tr>\n",
       "      <th>s 9</th>\n",
       "      <td>13914</td>\n",
       "      <td>263812</td>\n",
       "      <td>0</td>\n",
       "      <td>24565</td>\n",
       "      <td>6474</td>\n",
       "      <td>141102</td>\n",
       "      <td>1330384</td>\n",
       "      <td>212695</td>\n",
       "      <td>6138</td>\n",
       "      <td>11507</td>\n",
       "      <td>...</td>\n",
       "      <td>18872</td>\n",
       "      <td>31384</td>\n",
       "      <td>0</td>\n",
       "      <td>0</td>\n",
       "      <td>128767</td>\n",
       "      <td>7390</td>\n",
       "      <td>172217</td>\n",
       "      <td>1613</td>\n",
       "      <td>10970</td>\n",
       "      <td>853223</td>\n",
       "    </tr>\n",
       "    <tr>\n",
       "      <th>s11</th>\n",
       "      <td>20420</td>\n",
       "      <td>0</td>\n",
       "      <td>71313</td>\n",
       "      <td>19599</td>\n",
       "      <td>5683</td>\n",
       "      <td>117173</td>\n",
       "      <td>621676</td>\n",
       "      <td>0</td>\n",
       "      <td>6676</td>\n",
       "      <td>11898</td>\n",
       "      <td>...</td>\n",
       "      <td>17330</td>\n",
       "      <td>19340</td>\n",
       "      <td>0</td>\n",
       "      <td>4103</td>\n",
       "      <td>324707</td>\n",
       "      <td>21486</td>\n",
       "      <td>354677</td>\n",
       "      <td>0</td>\n",
       "      <td>1696</td>\n",
       "      <td>247335</td>\n",
       "    </tr>\n",
       "    <tr>\n",
       "      <th>s13</th>\n",
       "      <td>0</td>\n",
       "      <td>52334</td>\n",
       "      <td>154987</td>\n",
       "      <td>34990</td>\n",
       "      <td>5026</td>\n",
       "      <td>99758</td>\n",
       "      <td>1079832</td>\n",
       "      <td>0</td>\n",
       "      <td>0</td>\n",
       "      <td>7431</td>\n",
       "      <td>...</td>\n",
       "      <td>12977</td>\n",
       "      <td>4530</td>\n",
       "      <td>5364</td>\n",
       "      <td>0</td>\n",
       "      <td>319847</td>\n",
       "      <td>24798</td>\n",
       "      <td>426314</td>\n",
       "      <td>1197</td>\n",
       "      <td>8133</td>\n",
       "      <td>69474</td>\n",
       "    </tr>\n",
       "    <tr>\n",
       "      <th>s15</th>\n",
       "      <td>9446</td>\n",
       "      <td>255144</td>\n",
       "      <td>0</td>\n",
       "      <td>18844</td>\n",
       "      <td>6963</td>\n",
       "      <td>129630</td>\n",
       "      <td>2014771</td>\n",
       "      <td>153927</td>\n",
       "      <td>0</td>\n",
       "      <td>8669</td>\n",
       "      <td>...</td>\n",
       "      <td>14672</td>\n",
       "      <td>18686</td>\n",
       "      <td>0</td>\n",
       "      <td>0</td>\n",
       "      <td>361370</td>\n",
       "      <td>22935</td>\n",
       "      <td>411819</td>\n",
       "      <td>1513</td>\n",
       "      <td>0</td>\n",
       "      <td>75206</td>\n",
       "    </tr>\n",
       "    <tr>\n",
       "      <th>s17</th>\n",
       "      <td>0</td>\n",
       "      <td>0</td>\n",
       "      <td>113738</td>\n",
       "      <td>29631</td>\n",
       "      <td>8716</td>\n",
       "      <td>76964</td>\n",
       "      <td>1196309</td>\n",
       "      <td>200490</td>\n",
       "      <td>0</td>\n",
       "      <td>6587</td>\n",
       "      <td>...</td>\n",
       "      <td>10424</td>\n",
       "      <td>6117</td>\n",
       "      <td>9251</td>\n",
       "      <td>0</td>\n",
       "      <td>180628</td>\n",
       "      <td>13730</td>\n",
       "      <td>195176</td>\n",
       "      <td>0</td>\n",
       "      <td>0</td>\n",
       "      <td>168838</td>\n",
       "    </tr>\n",
       "    <tr>\n",
       "      <th>s19</th>\n",
       "      <td>0</td>\n",
       "      <td>248804</td>\n",
       "      <td>0</td>\n",
       "      <td>38666</td>\n",
       "      <td>5780</td>\n",
       "      <td>101756</td>\n",
       "      <td>925441</td>\n",
       "      <td>126646</td>\n",
       "      <td>6802</td>\n",
       "      <td>11049</td>\n",
       "      <td>...</td>\n",
       "      <td>15216</td>\n",
       "      <td>0</td>\n",
       "      <td>10270</td>\n",
       "      <td>2769</td>\n",
       "      <td>136620</td>\n",
       "      <td>6075</td>\n",
       "      <td>126239</td>\n",
       "      <td>1572</td>\n",
       "      <td>4630</td>\n",
       "      <td>242081</td>\n",
       "    </tr>\n",
       "    <tr>\n",
       "      <th>s 2</th>\n",
       "      <td>15555</td>\n",
       "      <td>118508</td>\n",
       "      <td>131435</td>\n",
       "      <td>39023</td>\n",
       "      <td>5575</td>\n",
       "      <td>153949</td>\n",
       "      <td>851576</td>\n",
       "      <td>113314</td>\n",
       "      <td>5964</td>\n",
       "      <td>13449</td>\n",
       "      <td>...</td>\n",
       "      <td>21755</td>\n",
       "      <td>0</td>\n",
       "      <td>17396</td>\n",
       "      <td>7959</td>\n",
       "      <td>93623</td>\n",
       "      <td>10711</td>\n",
       "      <td>146804</td>\n",
       "      <td>3067</td>\n",
       "      <td>9305</td>\n",
       "      <td>88250</td>\n",
       "    </tr>\n",
       "    <tr>\n",
       "      <th>s 4</th>\n",
       "      <td>16537</td>\n",
       "      <td>212548</td>\n",
       "      <td>0</td>\n",
       "      <td>15508</td>\n",
       "      <td>6272</td>\n",
       "      <td>148514</td>\n",
       "      <td>1395904</td>\n",
       "      <td>187757</td>\n",
       "      <td>5522</td>\n",
       "      <td>8352</td>\n",
       "      <td>...</td>\n",
       "      <td>0</td>\n",
       "      <td>11110</td>\n",
       "      <td>0</td>\n",
       "      <td>2167</td>\n",
       "      <td>149412</td>\n",
       "      <td>0</td>\n",
       "      <td>125306</td>\n",
       "      <td>0</td>\n",
       "      <td>5442</td>\n",
       "      <td>43726</td>\n",
       "    </tr>\n",
       "    <tr>\n",
       "      <th>s 6</th>\n",
       "      <td>11419</td>\n",
       "      <td>56673</td>\n",
       "      <td>118734</td>\n",
       "      <td>38534</td>\n",
       "      <td>4115</td>\n",
       "      <td>132456</td>\n",
       "      <td>702752</td>\n",
       "      <td>161121</td>\n",
       "      <td>6250</td>\n",
       "      <td>0</td>\n",
       "      <td>...</td>\n",
       "      <td>0</td>\n",
       "      <td>0</td>\n",
       "      <td>10209</td>\n",
       "      <td>1481</td>\n",
       "      <td>330329</td>\n",
       "      <td>34509</td>\n",
       "      <td>430853</td>\n",
       "      <td>0</td>\n",
       "      <td>5366</td>\n",
       "      <td>77944</td>\n",
       "    </tr>\n",
       "    <tr>\n",
       "      <th>s 8</th>\n",
       "      <td>13220</td>\n",
       "      <td>0</td>\n",
       "      <td>161159</td>\n",
       "      <td>19073</td>\n",
       "      <td>2798</td>\n",
       "      <td>111417</td>\n",
       "      <td>1708838</td>\n",
       "      <td>93956</td>\n",
       "      <td>5209</td>\n",
       "      <td>11218</td>\n",
       "      <td>...</td>\n",
       "      <td>7033</td>\n",
       "      <td>21295</td>\n",
       "      <td>0</td>\n",
       "      <td>3224</td>\n",
       "      <td>101185</td>\n",
       "      <td>5886</td>\n",
       "      <td>169316</td>\n",
       "      <td>0</td>\n",
       "      <td>14796</td>\n",
       "      <td>90068</td>\n",
       "    </tr>\n",
       "    <tr>\n",
       "      <th>s10</th>\n",
       "      <td>0</td>\n",
       "      <td>0</td>\n",
       "      <td>175739</td>\n",
       "      <td>22347</td>\n",
       "      <td>7937</td>\n",
       "      <td>143258</td>\n",
       "      <td>1512946</td>\n",
       "      <td>194555</td>\n",
       "      <td>6211</td>\n",
       "      <td>20478</td>\n",
       "      <td>...</td>\n",
       "      <td>9750</td>\n",
       "      <td>7896</td>\n",
       "      <td>8112</td>\n",
       "      <td>0</td>\n",
       "      <td>365456</td>\n",
       "      <td>31367</td>\n",
       "      <td>366144</td>\n",
       "      <td>2296</td>\n",
       "      <td>8755</td>\n",
       "      <td>70084</td>\n",
       "    </tr>\n",
       "    <tr>\n",
       "      <th>s12</th>\n",
       "      <td>0</td>\n",
       "      <td>250705</td>\n",
       "      <td>0</td>\n",
       "      <td>18005</td>\n",
       "      <td>4493</td>\n",
       "      <td>158397</td>\n",
       "      <td>2079317</td>\n",
       "      <td>0</td>\n",
       "      <td>6080</td>\n",
       "      <td>10607</td>\n",
       "      <td>...</td>\n",
       "      <td>0</td>\n",
       "      <td>12346</td>\n",
       "      <td>17212</td>\n",
       "      <td>7352</td>\n",
       "      <td>334383</td>\n",
       "      <td>29033</td>\n",
       "      <td>336058</td>\n",
       "      <td>2018</td>\n",
       "      <td>3023</td>\n",
       "      <td>67102</td>\n",
       "    </tr>\n",
       "    <tr>\n",
       "      <th>s14</th>\n",
       "      <td>0</td>\n",
       "      <td>126276</td>\n",
       "      <td>91395</td>\n",
       "      <td>20253</td>\n",
       "      <td>0</td>\n",
       "      <td>95746</td>\n",
       "      <td>848811</td>\n",
       "      <td>145302</td>\n",
       "      <td>6430</td>\n",
       "      <td>12892</td>\n",
       "      <td>...</td>\n",
       "      <td>0</td>\n",
       "      <td>0</td>\n",
       "      <td>4556</td>\n",
       "      <td>1028</td>\n",
       "      <td>175049</td>\n",
       "      <td>13411</td>\n",
       "      <td>167548</td>\n",
       "      <td>0</td>\n",
       "      <td>6035</td>\n",
       "      <td>20239</td>\n",
       "    </tr>\n",
       "    <tr>\n",
       "      <th>s16</th>\n",
       "      <td>0</td>\n",
       "      <td>220093</td>\n",
       "      <td>0</td>\n",
       "      <td>33684</td>\n",
       "      <td>3856</td>\n",
       "      <td>115308</td>\n",
       "      <td>858499</td>\n",
       "      <td>120846</td>\n",
       "      <td>0</td>\n",
       "      <td>12524</td>\n",
       "      <td>...</td>\n",
       "      <td>11384</td>\n",
       "      <td>7583</td>\n",
       "      <td>0</td>\n",
       "      <td>0</td>\n",
       "      <td>331019</td>\n",
       "      <td>18822</td>\n",
       "      <td>401814</td>\n",
       "      <td>0</td>\n",
       "      <td>0</td>\n",
       "      <td>49447</td>\n",
       "    </tr>\n",
       "    <tr>\n",
       "      <th>s18</th>\n",
       "      <td>0</td>\n",
       "      <td>0</td>\n",
       "      <td>172121</td>\n",
       "      <td>20895</td>\n",
       "      <td>5077</td>\n",
       "      <td>110720</td>\n",
       "      <td>1519398</td>\n",
       "      <td>0</td>\n",
       "      <td>0</td>\n",
       "      <td>15940</td>\n",
       "      <td>...</td>\n",
       "      <td>7073</td>\n",
       "      <td>8190</td>\n",
       "      <td>7924</td>\n",
       "      <td>0</td>\n",
       "      <td>171817</td>\n",
       "      <td>8293</td>\n",
       "      <td>196215</td>\n",
       "      <td>946</td>\n",
       "      <td>0</td>\n",
       "      <td>87627</td>\n",
       "    </tr>\n",
       "    <tr>\n",
       "      <th>s20</th>\n",
       "      <td>0</td>\n",
       "      <td>0</td>\n",
       "      <td>150729</td>\n",
       "      <td>22632</td>\n",
       "      <td>6089</td>\n",
       "      <td>77643</td>\n",
       "      <td>1366109</td>\n",
       "      <td>190456</td>\n",
       "      <td>0</td>\n",
       "      <td>22623</td>\n",
       "      <td>...</td>\n",
       "      <td>0</td>\n",
       "      <td>6301</td>\n",
       "      <td>12854</td>\n",
       "      <td>1763</td>\n",
       "      <td>363267</td>\n",
       "      <td>22646</td>\n",
       "      <td>433943</td>\n",
       "      <td>1126</td>\n",
       "      <td>1016</td>\n",
       "      <td>123356</td>\n",
       "    </tr>\n",
       "  </tbody>\n",
       "</table>\n",
       "<p>20 rows × 277 columns</p>\n",
       "</div>"
      ],
      "text/plain": [
       "ComponetID     v1      v5     v17    v51   v68     v79     v117    v118  v132  \\\n",
       "s 1         13149  162952       0  36557     0  173049   876770  155480  6458   \n",
       "s 3         15519  180989   31487  38760     0  117192   553371   26951  6316   \n",
       "s 5         19836  158248   85956  35297  4938  152004  1525264  118552  5565   \n",
       "s 7         15295  229520       0  37840  4550   99548   916726   70027  4690   \n",
       "s 9         13914  263812       0  24565  6474  141102  1330384  212695  6138   \n",
       "s11         20420       0   71313  19599  5683  117173   621676       0  6676   \n",
       "s13             0   52334  154987  34990  5026   99758  1079832       0     0   \n",
       "s15          9446  255144       0  18844  6963  129630  2014771  153927     0   \n",
       "s17             0       0  113738  29631  8716   76964  1196309  200490     0   \n",
       "s19             0  248804       0  38666  5780  101756   925441  126646  6802   \n",
       "s 2         15555  118508  131435  39023  5575  153949   851576  113314  5964   \n",
       "s 4         16537  212548       0  15508  6272  148514  1395904  187757  5522   \n",
       "s 6         11419   56673  118734  38534  4115  132456   702752  161121  6250   \n",
       "s 8         13220       0  161159  19073  2798  111417  1708838   93956  5209   \n",
       "s10             0       0  175739  22347  7937  143258  1512946  194555  6211   \n",
       "s12             0  250705       0  18005  4493  158397  2079317       0  6080   \n",
       "s14             0  126276   91395  20253     0   95746   848811  145302  6430   \n",
       "s16             0  220093       0  33684  3856  115308   858499  120846     0   \n",
       "s18             0       0  172121  20895  5077  110720  1519398       0     0   \n",
       "s20             0       0  150729  22632  6089   77643  1366109  190456     0   \n",
       "\n",
       "ComponetID   v138  ...  v4681  v4686  v4690  v4700   v4711  v4762   v4779  \\\n",
       "s 1         11102  ...   6290  10069   5827      0  168228  10179  189013   \n",
       "s 3          2424  ...   6809      0   5810      0  143683   7378  115520   \n",
       "s 5          9918  ...  14066      0  11784   2572  162778   6003  147683   \n",
       "s 7             0  ...  15710  18619      0   1450  160915   8358  161317   \n",
       "s 9         11507  ...  18872  31384      0      0  128767   7390  172217   \n",
       "s11         11898  ...  17330  19340      0   4103  324707  21486  354677   \n",
       "s13          7431  ...  12977   4530   5364      0  319847  24798  426314   \n",
       "s15          8669  ...  14672  18686      0      0  361370  22935  411819   \n",
       "s17          6587  ...  10424   6117   9251      0  180628  13730  195176   \n",
       "s19         11049  ...  15216      0  10270   2769  136620   6075  126239   \n",
       "s 2         13449  ...  21755      0  17396   7959   93623  10711  146804   \n",
       "s 4          8352  ...      0  11110      0   2167  149412      0  125306   \n",
       "s 6             0  ...      0      0  10209   1481  330329  34509  430853   \n",
       "s 8         11218  ...   7033  21295      0   3224  101185   5886  169316   \n",
       "s10         20478  ...   9750   7896   8112      0  365456  31367  366144   \n",
       "s12         10607  ...      0  12346  17212   7352  334383  29033  336058   \n",
       "s14         12892  ...      0      0   4556   1028  175049  13411  167548   \n",
       "s16         12524  ...  11384   7583      0      0  331019  18822  401814   \n",
       "s18         15940  ...   7073   8190   7924      0  171817   8293  196215   \n",
       "s20         22623  ...      0   6301  12854   1763  363267  22646  433943   \n",
       "\n",
       "ComponetID  v4816  v4821   v4888  \n",
       "s 1             0      0   48345  \n",
       "s 3             0      0  125184  \n",
       "s 5          2256   9181  139848  \n",
       "s 7             0   3429  203533  \n",
       "s 9          1613  10970  853223  \n",
       "s11             0   1696  247335  \n",
       "s13          1197   8133   69474  \n",
       "s15          1513      0   75206  \n",
       "s17             0      0  168838  \n",
       "s19          1572   4630  242081  \n",
       "s 2          3067   9305   88250  \n",
       "s 4             0   5442   43726  \n",
       "s 6             0   5366   77944  \n",
       "s 8             0  14796   90068  \n",
       "s10          2296   8755   70084  \n",
       "s12          2018   3023   67102  \n",
       "s14             0   6035   20239  \n",
       "s16             0      0   49447  \n",
       "s18           946      0   87627  \n",
       "s20          1126   1016  123356  \n",
       "\n",
       "[20 rows x 277 columns]"
      ]
     },
     "execution_count": 10,
     "metadata": {},
     "output_type": "execute_result"
    }
   ],
   "source": [
    "# Getting Dataset 4 in Correct Format\n",
    "\n",
    "import numpy as np\n",
    "import matplotlib.pyplot as plt\n",
    "import pandas as pd\n",
    "\n",
    "data_4 = pd.read_csv('Homework_2_dataset_prob4.csv', index_col = 0)\n",
    "data_4 = data_4.transpose()\n",
    "\n",
    "X4 = data_4.to_numpy()\n",
    "\n",
    "num_components = min(X4.shape[0], X4.shape[1])\n",
    "\n",
    "data_4"
   ]
  },
  {
   "cell_type": "code",
   "execution_count": 11,
   "id": "f533e742",
   "metadata": {},
   "outputs": [
    {
     "name": "stdout",
     "output_type": "stream",
     "text": [
      "Scores: [[ 1.01542992e+07 -2.31838943e+06 -2.73400695e+06 -2.05772850e+06\n",
      "   5.90979616e+05  1.85996829e+06  1.60386725e+06  1.20635674e+06\n",
      "   1.79025268e+06  8.61026067e+05 -7.68528339e+05  5.06539054e+05\n",
      "   3.37892145e+05  3.09482945e+05  2.49770717e+05 -5.37026554e+04\n",
      "   1.18617553e+05 -4.47721871e+05 -7.58410688e+04  1.99906935e-09]\n",
      " [ 2.97144812e+07 -5.94512352e+05  4.36059705e+06  3.97725790e+06\n",
      "  -2.31088616e+06 -6.51038147e+05 -3.44869809e+05  1.17736861e+05\n",
      "   5.55133977e+04  4.07692484e+05  8.27158303e+05  6.42370920e+05\n",
      "   8.24337450e+04 -3.82592419e+05  2.31188935e+04 -5.62766017e+04\n",
      "   1.03695412e+05 -1.04366944e+05  1.50385664e+05  3.45244189e-09]\n",
      " [-1.14458427e+07 -6.33668418e+06 -1.03673037e+06  2.67897419e+06\n",
      "   8.16595109e+05  1.73871490e+06 -6.05056631e+05 -1.43072656e+06\n",
      "   7.08470906e+05 -4.38847145e+05 -3.81080288e+04 -1.12764815e+05\n",
      "   7.58271077e+05 -5.85187753e+05 -4.00035050e+05  1.94747623e+05\n",
      "  -5.49293768e+05 -3.10687085e+05  7.69467916e+04  1.20053301e-10]\n",
      " [ 1.63998668e+07 -1.34722989e+06 -1.37690133e+06  8.08198446e+05\n",
      "   2.12601994e+06 -5.47608887e+04  4.91269535e+05 -1.10549130e+06\n",
      "  -7.52334259e+05  2.14715931e+05 -1.93208837e+04  1.98573649e+05\n",
      "   1.95333649e+05  3.84581293e+05 -2.21880529e+05  5.79213801e+04\n",
      "  -1.98871586e+05  3.41927786e+05 -5.61397308e+05 -2.77987056e-09]\n",
      " [-5.17387546e+06  3.66514482e+06 -1.88759223e+06  3.76587174e+06\n",
      "  -7.73951250e+05  1.84351671e+06 -2.52867443e+05  1.45741742e+06\n",
      "   1.32880201e+06 -1.48278622e+06 -3.04175614e+05  3.04496520e+03\n",
      "  -7.05875793e+05  1.70041914e+05  3.27918041e+04  3.59569154e+05\n",
      "   8.88251820e+04  4.06677488e+05 -6.44578312e+04 -2.18278728e-10]\n",
      " [-1.05290136e+07  2.09660830e+05  6.63529146e+05 -3.80798243e+05\n",
      "  -3.07663281e+05  5.05094938e+05  2.69420789e+06 -1.12213419e+06\n",
      "   4.78982423e+05 -9.08772728e+05  1.16491935e+06  1.24485086e+05\n",
      "   4.54004913e+05  4.38727518e+05  2.54482696e+05 -6.16790348e+05\n",
      "   1.12197538e+05  2.47367240e+05  1.17423025e+05 -2.17914931e-09]\n",
      " [-1.48462071e+07 -8.66639950e+06 -1.20016867e+06  2.20334893e+06\n",
      "   3.29879549e+05  1.23544063e+06 -1.81086508e+06  5.47648017e+05\n",
      "  -7.95050897e+05  1.44342421e+06  5.43986271e+05 -4.71523426e+05\n",
      "   2.15242469e+05  1.53845667e+05  6.58359379e+05 -7.48033120e+04\n",
      "   3.95737693e+05 -1.59189340e+04 -1.21434651e+05 -2.94267011e-09]\n",
      " [-8.48446469e+06 -7.00564633e+06 -8.47404015e+06  1.87829394e+05\n",
      "  -2.75669337e+06 -4.02057322e+06  6.73492835e+04  1.08197784e+06\n",
      "  -4.20449015e+05 -4.82222586e+05 -2.97346527e+05  4.04780190e+05\n",
      "   4.38203918e+05  2.73213459e+05 -9.19169946e+04  1.95401774e+04\n",
      "  -1.49288874e+05 -3.61652068e+04 -3.57237323e+04 -3.95630195e-11]\n",
      " [ 5.49215610e+06 -4.26430925e+05 -4.13306521e+06  3.50056382e+05\n",
      "  -2.41585624e+06  1.20003408e+06  1.43884583e+06 -1.54207705e+06\n",
      "  -1.23099977e+06  2.48817716e+05 -1.38879990e+06 -5.96156426e+05\n",
      "  -3.51652492e+05 -5.62307893e+05  1.51321875e+05 -1.99477599e+05\n",
      "   1.82784298e+05  1.16002107e+05  1.05971132e+05  1.60275704e-09]\n",
      " [ 8.53989487e+06  3.25105580e+06 -2.20663685e+06  4.79778399e+05\n",
      "   2.03850197e+06 -6.43917661e+03  1.49231317e+05 -4.07569128e+05\n",
      "  -1.20773521e+06 -3.63169393e+05  4.86753331e+04 -3.76452954e+05\n",
      "   1.93271924e+04  1.14357044e+06  1.10814420e+03  6.17638299e+05\n",
      "   5.22428740e+04 -2.17817735e+05  3.61247497e+05  2.60206434e-09]\n",
      " [ 3.23610845e+06  5.66210627e+06  3.10010287e+06  1.45172089e+06\n",
      "   1.50577407e+06 -1.20664036e+06 -1.31949760e+06  6.13306541e+05\n",
      "   2.24962154e+04 -8.83317632e+05 -5.44671101e+05 -7.40515963e+05\n",
      "  -1.92078252e+05  2.40703253e+05 -1.03340472e+05 -9.72364483e+05\n",
      "  -6.29095709e+04 -3.43820088e+05 -6.29916805e+04 -1.22963684e-09]\n",
      " [ 1.27535245e+07 -2.69983286e+06 -6.47212701e+06 -3.54439985e+06\n",
      "   1.30330793e+06  4.41111473e+05 -9.25549067e+05  1.08711375e+06\n",
      "   3.51518398e+05 -1.52612364e+05  6.83457804e+05 -7.54644901e+05\n",
      "   2.75404000e+05 -6.13995715e+05 -5.70688719e+05 -8.67657098e+04\n",
      "   2.12060911e+05  3.04342398e+05  1.33872713e+05 -8.73114914e-11]\n",
      " [ 4.94304015e+06 -5.09821473e+06 -1.19328276e+06 -3.23951146e+06\n",
      "   1.19405034e+05  2.03451101e+05 -5.97486153e+05 -2.20498911e+05\n",
      "  -2.84571239e+05 -7.99100278e+05  6.10120579e+05  1.64001680e+05\n",
      "  -1.09535113e+06 -2.98952576e+05  7.93143122e+05  5.26829463e+04\n",
      "  -5.18095720e+05 -1.62730246e+05 -3.35477383e+04  1.42335921e-09]\n",
      " [-6.03351083e+06  1.12139762e+07 -3.81246323e+06 -2.61012318e+05\n",
      "   4.71244702e+04 -2.46453099e+06 -8.16767023e+05 -2.07199780e+06\n",
      "   1.84025468e+06  1.00154703e+06  2.68434644e+05 -1.55964843e+05\n",
      "  -4.17867559e+05 -1.15884988e+05  5.68907296e+04  2.18851873e+05\n",
      "   2.24809425e+05 -7.79365917e+04 -5.63013321e+04  1.86628313e-09]\n",
      " [-8.09236666e+06 -7.27172743e+06  5.88456565e+06 -1.68776363e+06\n",
      "   2.55842852e+05 -1.79754898e+05  1.71960063e+04 -5.89712637e+05\n",
      "  -5.19848384e+05 -1.16425037e+06 -3.45351601e+04  5.68327742e+05\n",
      "  -4.04689059e+05 -2.19291943e+05 -5.25808368e+05  2.22498629e+05\n",
      "   6.78941183e+05 -3.08060567e+05 -1.38342174e+05 -2.81943358e-10]\n",
      " [-1.22583609e+07  4.48823575e+06 -1.26174966e+06  1.22543467e+06\n",
      "   3.42834592e+06 -4.50293418e+05  9.25300854e+05  9.40782179e+05\n",
      "  -9.04409632e+05  1.11756423e+06 -1.38056526e+05  1.08449914e+06\n",
      "  -5.26044728e+05 -5.05022044e+05 -2.09544485e+05 -2.09313898e+05\n",
      "  -1.20380511e+05  1.46030569e+05  1.94790893e+05  1.23691279e-10]\n",
      " [ 1.10241843e+06  1.25056080e+06  8.03529421e+06 -1.54696324e+06\n",
      "   1.39495211e+06 -1.56438117e+06 -7.95216595e+05  1.88359930e+04\n",
      "   2.83222815e+05 -5.16954297e+05 -9.02986561e+05  1.16671928e+05\n",
      "   9.35714323e+05 -3.73216158e+05  6.83488760e+05  2.61362428e+05\n",
      "   3.66686006e+04  3.69197523e+05  1.00637586e+05 -1.80807547e-09]\n",
      " [-3.26083303e+06 -9.31233583e+06  7.77253892e+06 -1.52164677e+06\n",
      "  -1.54605509e+06 -1.03877800e+05 -4.58137016e+05 -1.68665145e+05\n",
      "   7.66429300e+05  1.32561680e+06 -3.09563317e+05 -2.32976888e+05\n",
      "  -5.51457580e+05  7.22379872e+05 -5.07562084e+05 -8.69232488e+04\n",
      "  -2.97805016e+05  2.99459736e+05  1.43877372e+05 -1.08775566e-09]\n",
      " [-5.82909061e+06  1.44498615e+07  2.05243648e+05 -2.71800194e+06\n",
      "  -2.81451242e+06  2.37263682e+06 -1.89302138e+06  9.69292034e+04\n",
      "  -9.97806853e+05  8.54737269e+04  9.39957930e+04  6.67084902e+05\n",
      "   4.61236720e+05  2.29463091e+05 -1.87943022e+05 -7.31754968e+04\n",
      "  -1.20337871e+05 -1.62475609e+04 -5.87206400e+04  2.06182449e-09]\n",
      " [-6.38222408e+06  6.88680155e+06  5.76689293e+06 -1.70644989e+05\n",
      "  -1.03111076e+06 -6.97678869e+05  2.43206582e+06  1.49076819e+06\n",
      "  -5.12737567e+05  4.86154813e+05  5.05343875e+05 -1.03937905e+06\n",
      "   7.19524439e+04 -4.09557962e+05 -8.57563971e+04  4.24780842e+05\n",
      "  -1.89597753e+05 -1.89532016e+05 -1.76394518e+05 -1.85900717e-09]]\n"
     ]
    }
   ],
   "source": [
    "# PCA and Scores for Dataset 4\n",
    "\n",
    "object_pca = MyPCA(num_components = num_components)\n",
    "pca_results = object_pca.fit_transform(X4)\n",
    "pca_results = np.real(pca_results)\n",
    "\n",
    "print('Scores: {}'.format(pca_results))"
   ]
  },
  {
   "cell_type": "markdown",
   "id": "f2172955",
   "metadata": {},
   "source": [
    "### Plot the scree plot for PC1 and PC2 and indicate the percentage of variance that PC1 and PC2 explains respectively."
   ]
  },
  {
   "cell_type": "code",
   "execution_count": 12,
   "id": "0dac7e57",
   "metadata": {
    "scrolled": false
   },
   "outputs": [
    {
     "name": "stderr",
     "output_type": "stream",
     "text": [
      "/Users/jimmynguyen/opt/anaconda3/lib/python3.9/site-packages/matplotlib/collections.py:196: ComplexWarning: Casting complex values to real discards the imaginary part\n",
      "  offsets = np.asanyarray(offsets, float)\n"
     ]
    },
    {
     "data": {
      "text/plain": [
       "Text(0.5, 1.0, 'Scree Plot (All PCs)')"
      ]
     },
     "execution_count": 12,
     "metadata": {},
     "output_type": "execute_result"
    },
    {
     "data": {
      "image/png": "[encoded data removed]",
      "text/plain": [
       "<Figure size 640x480 with 1 Axes>"
      ]
     },
     "metadata": {},
     "output_type": "display_data"
    }
   ],
   "source": [
    "# Plotting All Principal Components\n",
    "\n",
    "plt.scatter(range(len(object_pca.explained_variance())), object_pca.explained_variance())\n",
    "plt.scatter(range(len(object_pca.explained_variance()[0:2])), object_pca.explained_variance()[0:2], color='red')\n",
    "\n",
    "plt.xlabel('PC Index')\n",
    "plt.ylabel('Percent Variance Explained')\n",
    "plt.title('Scree Plot (All PCs)')"
   ]
  },
  {
   "cell_type": "code",
   "execution_count": 13,
   "id": "8ed9ecbf",
   "metadata": {},
   "outputs": [
    {
     "data": {
      "text/plain": [
       "Text(0.5, 1.0, 'Scree Plot (PC1 & PC2)')"
      ]
     },
     "execution_count": 13,
     "metadata": {},
     "output_type": "execute_result"
    },
    {
     "data": {
      "image/png": "[encoded data removed]",
      "text/plain": [
       "<Figure size 640x480 with 1 Axes>"
      ]
     },
     "metadata": {},
     "output_type": "display_data"
    }
   ],
   "source": [
    "# Plotting Principal Components 1 & 2\n",
    "\n",
    "plt.scatter(range(len(object_pca.explained_variance()[0:2])), object_pca.explained_variance()[0:2], color='red')\n",
    "\n",
    "plt.xlabel('PC Index')\n",
    "plt.ylabel('Percent Variance Explained')\n",
    "plt.title('Scree Plot (PC1 & PC2)')"
   ]
  },
  {
   "cell_type": "code",
   "execution_count": 14,
   "id": "b7641511",
   "metadata": {},
   "outputs": [
    {
     "name": "stdout",
     "output_type": "stream",
     "text": [
      "Percent Explained Variance: [62.01722085 20.32548864]\n"
     ]
    }
   ],
   "source": [
    "# Percent Explained Variance for PC1 & PC2\n",
    "\n",
    "print('Percent Explained Variance: {}'.format(np.real(object_pca.explained_variance())[0:2]))"
   ]
  },
  {
   "cell_type": "markdown",
   "id": "a1b14f84",
   "metadata": {},
   "source": [
    "### Also plot the scores plot and loadings plot."
   ]
  },
  {
   "cell_type": "code",
   "execution_count": 15,
   "id": "5cc2f61a",
   "metadata": {},
   "outputs": [
    {
     "data": {
      "image/png": "[encoded data removed]",
      "text/plain": [
       "<Figure size 640x480 with 1 Axes>"
      ]
     },
     "metadata": {},
     "output_type": "display_data"
    }
   ],
   "source": [
    "# Plotting Scores for Dataset 4\n",
    "\n",
    "scores = pca_results\n",
    "\n",
    "scores1 = scores[:,0]\n",
    "scores2 = scores[:,1]\n",
    "\n",
    "plt.scatter(scores1, scores2)\n",
    "plt.xlabel('PC1')\n",
    "plt.ylabel('PC2')\n",
    "plt.title('Scores Plot')\n",
    "\n",
    "plt.show()"
   ]
  },
  {
   "cell_type": "code",
   "execution_count": 16,
   "id": "148597b9",
   "metadata": {},
   "outputs": [
    {
     "data": {
      "image/png": "[encoded data removed]",
      "text/plain": [
       "<Figure size 640x480 with 1 Axes>"
      ]
     },
     "metadata": {},
     "output_type": "display_data"
    }
   ],
   "source": [
    "# Plotting Loadings for Dataset 4\n",
    "\n",
    "loadings = object_pca.components\n",
    "loadings = np.real(object_pca.components)\n",
    "\n",
    "loadings1 = loadings[:,0]\n",
    "loadings2 = loadings[:,1]\n",
    "\n",
    "plt.scatter(loadings1, loadings2)\n",
    "plt.xlabel('PC1')\n",
    "plt.ylabel('PC2')\n",
    "plt.title('Loadings Plot')\n",
    "\n",
    "plt.show()"
   ]
  }
 ],
 "metadata": {
  "kernelspec": {
   "display_name": "Python 3 (ipykernel)",
   "language": "python",
   "name": "python3"
  },
  "language_info": {
   "codemirror_mode": {
    "name": "ipython",
    "version": 3
   },
   "file_extension": ".py",
   "mimetype": "text/x-python",
   "name": "python",
   "nbconvert_exporter": "python",
   "pygments_lexer": "ipython3",
   "version": "3.9.13"
  }
 },
 "nbformat": 4,
 "nbformat_minor": 5
}
